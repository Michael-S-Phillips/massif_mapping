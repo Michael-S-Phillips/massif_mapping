{
 "cells": [
  {
   "cell_type": "markdown",
   "metadata": {},
   "source": [
    "## Calculate metadata and create point file from geopackage files"
   ]
  },
  {
   "cell_type": "code",
   "execution_count": 1,
   "metadata": {},
   "outputs": [
    {
     "name": "stderr",
     "output_type": "stream",
     "text": [
      "/Users/phillipsm/anaconda3/envs/hypy_scat/lib/python3.10/site-packages/osgeo/osr.py:385: FutureWarning: Neither osr.UseExceptions() nor osr.DontUseExceptions() has been explicitly called. In GDAL 4.0, exceptions will be enabled by default.\n",
      "  warnings.warn(\n"
     ]
    },
    {
     "name": "stdout",
     "output_type": "stream",
     "text": [
      "Single point CRS: +proj=longlat +ellps=sphere +a=3396190 +b=3396190 +units=m +no_defs +type=crs\n",
      "Processing /Users/phillipsm/Documents/Research/MassifMapping/Argyre_QGIS/shape_files/Argyre/categorized_olivine_2/T0507.gpkg...\n",
      "Reprojected CRS: PROJCS[\"Argyre-Lambert Conformal Conic [clon -45E]\",GEOGCS[\"GCS_Mars_2000_Sphere\",DATUM[\"Mars_2000_(Sphere)\",SPHEROID[\"Mars_2000_Sphere_IAU_IAG\",3396190,0],AUTHORITY[\"ESRI\",\"106971\"]],PRIMEM[\"Reference_Meridian\",0],UNIT[\"Degree\",0.0174532925199433]],PROJECTION[\"Lambert_Conformal_Conic_2SP\"],PARAMETER[\"latitude_of_origin\",0],PARAMETER[\"central_meridian\",-45],PARAMETER[\"standard_parallel_1\",-35.83333],PARAMETER[\"standard_parallel_2\",-59.16666],PARAMETER[\"false_easting\",0],PARAMETER[\"false_northing\",0],UNIT[\"metre\",1,AUTHORITY[\"EPSG\",\"9001\"]],AXIS[\"Easting\",EAST],AXIS[\"Northing\",NORTH]]\n"
     ]
    },
    {
     "data": {
      "application/vnd.jupyter.widget-view+json": {
       "model_id": "407fe817941b46df92618d444cac2be7",
       "version_major": 2,
       "version_minor": 0
      },
      "text/plain": [
       "Calculating mean raster:   0%|          | 0/72 [00:00<?, ?it/s]"
      ]
     },
     "metadata": {},
     "output_type": "display_data"
    },
    {
     "name": "stdout",
     "output_type": "stream",
     "text": [
      "Processing /Users/phillipsm/Documents/Research/MassifMapping/Argyre_QGIS/shape_files/Argyre/categorized_olivine_2/T0360.gpkg...\n",
      "Reprojected CRS: PROJCS[\"Argyre-Lambert Conformal Conic [clon -45E]\",GEOGCS[\"GCS_Mars_2000_Sphere\",DATUM[\"Mars_2000_(Sphere)\",SPHEROID[\"Mars_2000_Sphere_IAU_IAG\",3396190,0],AUTHORITY[\"ESRI\",\"106971\"]],PRIMEM[\"Reference_Meridian\",0],UNIT[\"Degree\",0.0174532925199433]],PROJECTION[\"Lambert_Conformal_Conic_2SP\"],PARAMETER[\"latitude_of_origin\",0],PARAMETER[\"central_meridian\",-45],PARAMETER[\"standard_parallel_1\",-35.83333],PARAMETER[\"standard_parallel_2\",-59.16666],PARAMETER[\"false_easting\",0],PARAMETER[\"false_northing\",0],UNIT[\"metre\",1,AUTHORITY[\"EPSG\",\"9001\"]],AXIS[\"Easting\",EAST],AXIS[\"Northing\",NORTH]]\n"
     ]
    },
    {
     "data": {
      "application/vnd.jupyter.widget-view+json": {
       "model_id": "d192d2dc42d34c47815191990457142d",
       "version_major": 2,
       "version_minor": 0
      },
      "text/plain": [
       "Calculating mean raster:   0%|          | 0/29 [00:00<?, ?it/s]"
      ]
     },
     "metadata": {},
     "output_type": "display_data"
    },
    {
     "name": "stdout",
     "output_type": "stream",
     "text": [
      "Processing /Users/phillipsm/Documents/Research/MassifMapping/Argyre_QGIS/shape_files/Argyre/categorized_olivine_2/T0435.gpkg...\n",
      "Reprojected CRS: PROJCS[\"Argyre-Lambert Conformal Conic [clon -45E]\",GEOGCS[\"GCS_Mars_2000_Sphere\",DATUM[\"Mars_2000_(Sphere)\",SPHEROID[\"Mars_2000_Sphere_IAU_IAG\",3396190,0],AUTHORITY[\"ESRI\",\"106971\"]],PRIMEM[\"Reference_Meridian\",0],UNIT[\"Degree\",0.0174532925199433]],PROJECTION[\"Lambert_Conformal_Conic_2SP\"],PARAMETER[\"latitude_of_origin\",0],PARAMETER[\"central_meridian\",-45],PARAMETER[\"standard_parallel_1\",-35.83333],PARAMETER[\"standard_parallel_2\",-59.16666],PARAMETER[\"false_easting\",0],PARAMETER[\"false_northing\",0],UNIT[\"metre\",1,AUTHORITY[\"EPSG\",\"9001\"]],AXIS[\"Easting\",EAST],AXIS[\"Northing\",NORTH]]\n"
     ]
    },
    {
     "data": {
      "application/vnd.jupyter.widget-view+json": {
       "model_id": "3d8d3fe70bc94b73a365a3d24b91fb12",
       "version_major": 2,
       "version_minor": 0
      },
      "text/plain": [
       "Calculating mean raster:   0%|          | 0/466 [00:00<?, ?it/s]"
      ]
     },
     "metadata": {},
     "output_type": "display_data"
    },
    {
     "name": "stdout",
     "output_type": "stream",
     "text": [
      "Processing /Users/phillipsm/Documents/Research/MassifMapping/Argyre_QGIS/shape_files/Argyre/categorized_olivine_2/T0434.gpkg...\n",
      "Reprojected CRS: PROJCS[\"Argyre-Lambert Conformal Conic [clon -45E]\",GEOGCS[\"GCS_Mars_2000_Sphere\",DATUM[\"Mars_2000_(Sphere)\",SPHEROID[\"Mars_2000_Sphere_IAU_IAG\",3396190,0],AUTHORITY[\"ESRI\",\"106971\"]],PRIMEM[\"Reference_Meridian\",0],UNIT[\"Degree\",0.0174532925199433]],PROJECTION[\"Lambert_Conformal_Conic_2SP\"],PARAMETER[\"latitude_of_origin\",0],PARAMETER[\"central_meridian\",-45],PARAMETER[\"standard_parallel_1\",-35.83333],PARAMETER[\"standard_parallel_2\",-59.16666],PARAMETER[\"false_easting\",0],PARAMETER[\"false_northing\",0],UNIT[\"metre\",1,AUTHORITY[\"EPSG\",\"9001\"]],AXIS[\"Easting\",EAST],AXIS[\"Northing\",NORTH]]\n"
     ]
    },
    {
     "data": {
      "application/vnd.jupyter.widget-view+json": {
       "model_id": "6a87f6258cb840dcac8ede7886ab039f",
       "version_major": 2,
       "version_minor": 0
      },
      "text/plain": [
       "Calculating mean raster:   0%|          | 0/232 [00:00<?, ?it/s]"
      ]
     },
     "metadata": {},
     "output_type": "display_data"
    },
    {
     "name": "stdout",
     "output_type": "stream",
     "text": [
      "Processing /Users/phillipsm/Documents/Research/MassifMapping/Argyre_QGIS/shape_files/Argyre/categorized_olivine_2/T0361.gpkg...\n",
      "Reprojected CRS: PROJCS[\"Argyre-Lambert Conformal Conic [clon -45E]\",GEOGCS[\"GCS_Mars_2000_Sphere\",DATUM[\"Mars_2000_(Sphere)\",SPHEROID[\"Mars_2000_Sphere_IAU_IAG\",3396190,0],AUTHORITY[\"ESRI\",\"106971\"]],PRIMEM[\"Reference_Meridian\",0],UNIT[\"Degree\",0.0174532925199433]],PROJECTION[\"Lambert_Conformal_Conic_2SP\"],PARAMETER[\"latitude_of_origin\",0],PARAMETER[\"central_meridian\",-45],PARAMETER[\"standard_parallel_1\",-35.83333],PARAMETER[\"standard_parallel_2\",-59.16666],PARAMETER[\"false_easting\",0],PARAMETER[\"false_northing\",0],UNIT[\"metre\",1,AUTHORITY[\"EPSG\",\"9001\"]],AXIS[\"Easting\",EAST],AXIS[\"Northing\",NORTH]]\n"
     ]
    },
    {
     "data": {
      "application/vnd.jupyter.widget-view+json": {
       "model_id": "dc706284358943cfbb8b2f9cbba88479",
       "version_major": 2,
       "version_minor": 0
      },
      "text/plain": [
       "Calculating mean raster:   0%|          | 0/31 [00:00<?, ?it/s]"
      ]
     },
     "metadata": {},
     "output_type": "display_data"
    },
    {
     "name": "stdout",
     "output_type": "stream",
     "text": [
      "Processing /Users/phillipsm/Documents/Research/MassifMapping/Argyre_QGIS/shape_files/Argyre/categorized_olivine_2/T0183.gpkg...\n",
      "Reprojected CRS: PROJCS[\"Argyre-Lambert Conformal Conic [clon -45E]\",GEOGCS[\"GCS_Mars_2000_Sphere\",DATUM[\"Mars_2000_(Sphere)\",SPHEROID[\"Mars_2000_Sphere_IAU_IAG\",3396190,0],AUTHORITY[\"ESRI\",\"106971\"]],PRIMEM[\"Reference_Meridian\",0],UNIT[\"Degree\",0.0174532925199433]],PROJECTION[\"Lambert_Conformal_Conic_2SP\"],PARAMETER[\"latitude_of_origin\",0],PARAMETER[\"central_meridian\",-45],PARAMETER[\"standard_parallel_1\",-35.83333],PARAMETER[\"standard_parallel_2\",-59.16666],PARAMETER[\"false_easting\",0],PARAMETER[\"false_northing\",0],UNIT[\"metre\",1,AUTHORITY[\"EPSG\",\"9001\"]],AXIS[\"Easting\",EAST],AXIS[\"Northing\",NORTH]]\n"
     ]
    },
    {
     "data": {
      "application/vnd.jupyter.widget-view+json": {
       "model_id": "822aed373edf4b0980a2154990ce1c55",
       "version_major": 2,
       "version_minor": 0
      },
      "text/plain": [
       "Calculating mean raster:   0%|          | 0/4 [00:00<?, ?it/s]"
      ]
     },
     "metadata": {},
     "output_type": "display_data"
    },
    {
     "name": "stdout",
     "output_type": "stream",
     "text": [
      "Processing /Users/phillipsm/Documents/Research/MassifMapping/Argyre_QGIS/shape_files/Argyre/categorized_olivine_2/T0506.gpkg...\n",
      "Reprojected CRS: PROJCS[\"Argyre-Lambert Conformal Conic [clon -45E]\",GEOGCS[\"GCS_Mars_2000_Sphere\",DATUM[\"Mars_2000_(Sphere)\",SPHEROID[\"Mars_2000_Sphere_IAU_IAG\",3396190,0],AUTHORITY[\"ESRI\",\"106971\"]],PRIMEM[\"Reference_Meridian\",0],UNIT[\"Degree\",0.0174532925199433]],PROJECTION[\"Lambert_Conformal_Conic_2SP\"],PARAMETER[\"latitude_of_origin\",0],PARAMETER[\"central_meridian\",-45],PARAMETER[\"standard_parallel_1\",-35.83333],PARAMETER[\"standard_parallel_2\",-59.16666],PARAMETER[\"false_easting\",0],PARAMETER[\"false_northing\",0],UNIT[\"metre\",1,AUTHORITY[\"EPSG\",\"9001\"]],AXIS[\"Easting\",EAST],AXIS[\"Northing\",NORTH]]\n"
     ]
    },
    {
     "data": {
      "application/vnd.jupyter.widget-view+json": {
       "model_id": "5a0de8daffbc437cbb86f597019dcda9",
       "version_major": 2,
       "version_minor": 0
      },
      "text/plain": [
       "Calculating mean raster:   0%|          | 0/82 [00:00<?, ?it/s]"
      ]
     },
     "metadata": {},
     "output_type": "display_data"
    },
    {
     "name": "stdout",
     "output_type": "stream",
     "text": [
      "Processing /Users/phillipsm/Documents/Research/MassifMapping/Argyre_QGIS/shape_files/Argyre/categorized_olivine_2/T0290.gpkg...\n",
      "Reprojected CRS: PROJCS[\"Argyre-Lambert Conformal Conic [clon -45E]\",GEOGCS[\"GCS_Mars_2000_Sphere\",DATUM[\"Mars_2000_(Sphere)\",SPHEROID[\"Mars_2000_Sphere_IAU_IAG\",3396190,0],AUTHORITY[\"ESRI\",\"106971\"]],PRIMEM[\"Reference_Meridian\",0],UNIT[\"Degree\",0.0174532925199433]],PROJECTION[\"Lambert_Conformal_Conic_2SP\"],PARAMETER[\"latitude_of_origin\",0],PARAMETER[\"central_meridian\",-45],PARAMETER[\"standard_parallel_1\",-35.83333],PARAMETER[\"standard_parallel_2\",-59.16666],PARAMETER[\"false_easting\",0],PARAMETER[\"false_northing\",0],UNIT[\"metre\",1,AUTHORITY[\"EPSG\",\"9001\"]],AXIS[\"Easting\",EAST],AXIS[\"Northing\",NORTH]]\n"
     ]
    },
    {
     "data": {
      "application/vnd.jupyter.widget-view+json": {
       "model_id": "e4cf8e33ed1f42b0b1d88cf45188ab92",
       "version_major": 2,
       "version_minor": 0
      },
      "text/plain": [
       "Calculating mean raster:   0%|          | 0/92 [00:00<?, ?it/s]"
      ]
     },
     "metadata": {},
     "output_type": "display_data"
    },
    {
     "name": "stdout",
     "output_type": "stream",
     "text": [
      "Processing /Users/phillipsm/Documents/Research/MassifMapping/Argyre_QGIS/shape_files/Argyre/categorized_olivine_2/T0235.gpkg...\n",
      "Reprojected CRS: PROJCS[\"Argyre-Lambert Conformal Conic [clon -45E]\",GEOGCS[\"GCS_Mars_2000_Sphere\",DATUM[\"Mars_2000_(Sphere)\",SPHEROID[\"Mars_2000_Sphere_IAU_IAG\",3396190,0],AUTHORITY[\"ESRI\",\"106971\"]],PRIMEM[\"Reference_Meridian\",0],UNIT[\"Degree\",0.0174532925199433]],PROJECTION[\"Lambert_Conformal_Conic_2SP\"],PARAMETER[\"latitude_of_origin\",0],PARAMETER[\"central_meridian\",-45],PARAMETER[\"standard_parallel_1\",-35.83333],PARAMETER[\"standard_parallel_2\",-59.16666],PARAMETER[\"false_easting\",0],PARAMETER[\"false_northing\",0],UNIT[\"metre\",1,AUTHORITY[\"EPSG\",\"9001\"]],AXIS[\"Easting\",EAST],AXIS[\"Northing\",NORTH]]\n"
     ]
    },
    {
     "data": {
      "application/vnd.jupyter.widget-view+json": {
       "model_id": "0bb0f1fba0094b6288f2deca15055336",
       "version_major": 2,
       "version_minor": 0
      },
      "text/plain": [
       "Calculating mean raster:   0%|          | 0/20 [00:00<?, ?it/s]"
      ]
     },
     "metadata": {},
     "output_type": "display_data"
    },
    {
     "name": "stdout",
     "output_type": "stream",
     "text": [
      "Processing /Users/phillipsm/Documents/Research/MassifMapping/Argyre_QGIS/shape_files/Argyre/categorized_olivine_2/T0576.gpkg...\n",
      "Reprojected CRS: PROJCS[\"Argyre-Lambert Conformal Conic [clon -45E]\",GEOGCS[\"GCS_Mars_2000_Sphere\",DATUM[\"Mars_2000_(Sphere)\",SPHEROID[\"Mars_2000_Sphere_IAU_IAG\",3396190,0],AUTHORITY[\"ESRI\",\"106971\"]],PRIMEM[\"Reference_Meridian\",0],UNIT[\"Degree\",0.0174532925199433]],PROJECTION[\"Lambert_Conformal_Conic_2SP\"],PARAMETER[\"latitude_of_origin\",0],PARAMETER[\"central_meridian\",-45],PARAMETER[\"standard_parallel_1\",-35.83333],PARAMETER[\"standard_parallel_2\",-59.16666],PARAMETER[\"false_easting\",0],PARAMETER[\"false_northing\",0],UNIT[\"metre\",1,AUTHORITY[\"EPSG\",\"9001\"]],AXIS[\"Easting\",EAST],AXIS[\"Northing\",NORTH]]\n"
     ]
    },
    {
     "data": {
      "application/vnd.jupyter.widget-view+json": {
       "model_id": "6a4631ed10da46d8b28c049539181f44",
       "version_major": 2,
       "version_minor": 0
      },
      "text/plain": [
       "Calculating mean raster:   0%|          | 0/34 [00:00<?, ?it/s]"
      ]
     },
     "metadata": {},
     "output_type": "display_data"
    },
    {
     "name": "stdout",
     "output_type": "stream",
     "text": [
      "Processing /Users/phillipsm/Documents/Research/MassifMapping/Argyre_QGIS/shape_files/Argyre/categorized_olivine_2/T0433.gpkg...\n",
      "Reprojected CRS: PROJCS[\"Argyre-Lambert Conformal Conic [clon -45E]\",GEOGCS[\"GCS_Mars_2000_Sphere\",DATUM[\"Mars_2000_(Sphere)\",SPHEROID[\"Mars_2000_Sphere_IAU_IAG\",3396190,0],AUTHORITY[\"ESRI\",\"106971\"]],PRIMEM[\"Reference_Meridian\",0],UNIT[\"Degree\",0.0174532925199433]],PROJECTION[\"Lambert_Conformal_Conic_2SP\"],PARAMETER[\"latitude_of_origin\",0],PARAMETER[\"central_meridian\",-45],PARAMETER[\"standard_parallel_1\",-35.83333],PARAMETER[\"standard_parallel_2\",-59.16666],PARAMETER[\"false_easting\",0],PARAMETER[\"false_northing\",0],UNIT[\"metre\",1,AUTHORITY[\"EPSG\",\"9001\"]],AXIS[\"Easting\",EAST],AXIS[\"Northing\",NORTH]]\n"
     ]
    },
    {
     "data": {
      "application/vnd.jupyter.widget-view+json": {
       "model_id": "945b30fa2a344c0ea2795be5d1a394a9",
       "version_major": 2,
       "version_minor": 0
      },
      "text/plain": [
       "Calculating mean raster:   0%|          | 0/445 [00:00<?, ?it/s]"
      ]
     },
     "metadata": {},
     "output_type": "display_data"
    },
    {
     "name": "stdout",
     "output_type": "stream",
     "text": [
      "Processing /Users/phillipsm/Documents/Research/MassifMapping/Argyre_QGIS/shape_files/Argyre/categorized_olivine_2/T0239.gpkg...\n",
      "Reprojected CRS: PROJCS[\"Argyre-Lambert Conformal Conic [clon -45E]\",GEOGCS[\"GCS_Mars_2000_Sphere\",DATUM[\"Mars_2000_(Sphere)\",SPHEROID[\"Mars_2000_Sphere_IAU_IAG\",3396190,0],AUTHORITY[\"ESRI\",\"106971\"]],PRIMEM[\"Reference_Meridian\",0],UNIT[\"Degree\",0.0174532925199433]],PROJECTION[\"Lambert_Conformal_Conic_2SP\"],PARAMETER[\"latitude_of_origin\",0],PARAMETER[\"central_meridian\",-45],PARAMETER[\"standard_parallel_1\",-35.83333],PARAMETER[\"standard_parallel_2\",-59.16666],PARAMETER[\"false_easting\",0],PARAMETER[\"false_northing\",0],UNIT[\"metre\",1,AUTHORITY[\"EPSG\",\"9001\"]],AXIS[\"Easting\",EAST],AXIS[\"Northing\",NORTH]]\n"
     ]
    },
    {
     "data": {
      "application/vnd.jupyter.widget-view+json": {
       "model_id": "53f4315848a34f5880e971717dd0cea0",
       "version_major": 2,
       "version_minor": 0
      },
      "text/plain": [
       "Calculating mean raster:   0%|          | 0/10 [00:00<?, ?it/s]"
      ]
     },
     "metadata": {},
     "output_type": "display_data"
    },
    {
     "name": "stdout",
     "output_type": "stream",
     "text": [
      "Processing /Users/phillipsm/Documents/Research/MassifMapping/Argyre_QGIS/shape_files/Argyre/categorized_olivine_2/T0184.gpkg...\n",
      "Reprojected CRS: PROJCS[\"Argyre-Lambert Conformal Conic [clon -45E]\",GEOGCS[\"GCS_Mars_2000_Sphere\",DATUM[\"Mars_2000_(Sphere)\",SPHEROID[\"Mars_2000_Sphere_IAU_IAG\",3396190,0],AUTHORITY[\"ESRI\",\"106971\"]],PRIMEM[\"Reference_Meridian\",0],UNIT[\"Degree\",0.0174532925199433]],PROJECTION[\"Lambert_Conformal_Conic_2SP\"],PARAMETER[\"latitude_of_origin\",0],PARAMETER[\"central_meridian\",-45],PARAMETER[\"standard_parallel_1\",-35.83333],PARAMETER[\"standard_parallel_2\",-59.16666],PARAMETER[\"false_easting\",0],PARAMETER[\"false_northing\",0],UNIT[\"metre\",1,AUTHORITY[\"EPSG\",\"9001\"]],AXIS[\"Easting\",EAST],AXIS[\"Northing\",NORTH]]\n"
     ]
    },
    {
     "data": {
      "application/vnd.jupyter.widget-view+json": {
       "model_id": "6caa5ab9095b4780927fe7f219929429",
       "version_major": 2,
       "version_minor": 0
      },
      "text/plain": [
       "Calculating mean raster:   0%|          | 0/22 [00:00<?, ?it/s]"
      ]
     },
     "metadata": {},
     "output_type": "display_data"
    },
    {
     "name": "stdout",
     "output_type": "stream",
     "text": [
      "Processing /Users/phillipsm/Documents/Research/MassifMapping/Argyre_QGIS/shape_files/Argyre/categorized_olivine_2/T0185.gpkg...\n",
      "Reprojected CRS: PROJCS[\"Argyre-Lambert Conformal Conic [clon -45E]\",GEOGCS[\"GCS_Mars_2000_Sphere\",DATUM[\"Mars_2000_(Sphere)\",SPHEROID[\"Mars_2000_Sphere_IAU_IAG\",3396190,0],AUTHORITY[\"ESRI\",\"106971\"]],PRIMEM[\"Reference_Meridian\",0],UNIT[\"Degree\",0.0174532925199433]],PROJECTION[\"Lambert_Conformal_Conic_2SP\"],PARAMETER[\"latitude_of_origin\",0],PARAMETER[\"central_meridian\",-45],PARAMETER[\"standard_parallel_1\",-35.83333],PARAMETER[\"standard_parallel_2\",-59.16666],PARAMETER[\"false_easting\",0],PARAMETER[\"false_northing\",0],UNIT[\"metre\",1,AUTHORITY[\"EPSG\",\"9001\"]],AXIS[\"Easting\",EAST],AXIS[\"Northing\",NORTH]]\n"
     ]
    },
    {
     "data": {
      "application/vnd.jupyter.widget-view+json": {
       "model_id": "8d4ff74661f74cbb80c1519f0b39bcad",
       "version_major": 2,
       "version_minor": 0
      },
      "text/plain": [
       "Calculating mean raster:   0%|          | 0/10 [00:00<?, ?it/s]"
      ]
     },
     "metadata": {},
     "output_type": "display_data"
    },
    {
     "name": "stdout",
     "output_type": "stream",
     "text": [
      "Processing /Users/phillipsm/Documents/Research/MassifMapping/Argyre_QGIS/shape_files/Argyre/categorized_olivine_2/T0238.gpkg...\n",
      "Reprojected CRS: PROJCS[\"Argyre-Lambert Conformal Conic [clon -45E]\",GEOGCS[\"GCS_Mars_2000_Sphere\",DATUM[\"Mars_2000_(Sphere)\",SPHEROID[\"Mars_2000_Sphere_IAU_IAG\",3396190,0],AUTHORITY[\"ESRI\",\"106971\"]],PRIMEM[\"Reference_Meridian\",0],UNIT[\"Degree\",0.0174532925199433]],PROJECTION[\"Lambert_Conformal_Conic_2SP\"],PARAMETER[\"latitude_of_origin\",0],PARAMETER[\"central_meridian\",-45],PARAMETER[\"standard_parallel_1\",-35.83333],PARAMETER[\"standard_parallel_2\",-59.16666],PARAMETER[\"false_easting\",0],PARAMETER[\"false_northing\",0],UNIT[\"metre\",1,AUTHORITY[\"EPSG\",\"9001\"]],AXIS[\"Easting\",EAST],AXIS[\"Northing\",NORTH]]\n"
     ]
    },
    {
     "data": {
      "application/vnd.jupyter.widget-view+json": {
       "model_id": "93b93a0fabf44c91a54038079965a38d",
       "version_major": 2,
       "version_minor": 0
      },
      "text/plain": [
       "Calculating mean raster:   0%|          | 0/6 [00:00<?, ?it/s]"
      ]
     },
     "metadata": {},
     "output_type": "display_data"
    },
    {
     "name": "stdout",
     "output_type": "stream",
     "text": [
      "Processing /Users/phillipsm/Documents/Research/MassifMapping/Argyre_QGIS/shape_files/Argyre/categorized_olivine_2/T0577.gpkg...\n",
      "Reprojected CRS: PROJCS[\"Argyre-Lambert Conformal Conic [clon -45E]\",GEOGCS[\"GCS_Mars_2000_Sphere\",DATUM[\"Mars_2000_(Sphere)\",SPHEROID[\"Mars_2000_Sphere_IAU_IAG\",3396190,0],AUTHORITY[\"ESRI\",\"106971\"]],PRIMEM[\"Reference_Meridian\",0],UNIT[\"Degree\",0.0174532925199433]],PROJECTION[\"Lambert_Conformal_Conic_2SP\"],PARAMETER[\"latitude_of_origin\",0],PARAMETER[\"central_meridian\",-45],PARAMETER[\"standard_parallel_1\",-35.83333],PARAMETER[\"standard_parallel_2\",-59.16666],PARAMETER[\"false_easting\",0],PARAMETER[\"false_northing\",0],UNIT[\"metre\",1,AUTHORITY[\"EPSG\",\"9001\"]],AXIS[\"Easting\",EAST],AXIS[\"Northing\",NORTH]]\n"
     ]
    },
    {
     "data": {
      "application/vnd.jupyter.widget-view+json": {
       "model_id": "a4294715a7284cb3a0af02bf42f18cea",
       "version_major": 2,
       "version_minor": 0
      },
      "text/plain": [
       "Calculating mean raster:   0%|          | 0/8 [00:00<?, ?it/s]"
      ]
     },
     "metadata": {},
     "output_type": "display_data"
    },
    {
     "name": "stdout",
     "output_type": "stream",
     "text": [
      "Processing /Users/phillipsm/Documents/Research/MassifMapping/Argyre_QGIS/shape_files/Argyre/categorized_olivine_2/T0432.gpkg...\n",
      "Reprojected CRS: PROJCS[\"Argyre-Lambert Conformal Conic [clon -45E]\",GEOGCS[\"GCS_Mars_2000_Sphere\",DATUM[\"Mars_2000_(Sphere)\",SPHEROID[\"Mars_2000_Sphere_IAU_IAG\",3396190,0],AUTHORITY[\"ESRI\",\"106971\"]],PRIMEM[\"Reference_Meridian\",0],UNIT[\"Degree\",0.0174532925199433]],PROJECTION[\"Lambert_Conformal_Conic_2SP\"],PARAMETER[\"latitude_of_origin\",0],PARAMETER[\"central_meridian\",-45],PARAMETER[\"standard_parallel_1\",-35.83333],PARAMETER[\"standard_parallel_2\",-59.16666],PARAMETER[\"false_easting\",0],PARAMETER[\"false_northing\",0],UNIT[\"metre\",1,AUTHORITY[\"EPSG\",\"9001\"]],AXIS[\"Easting\",EAST],AXIS[\"Northing\",NORTH]]\n"
     ]
    },
    {
     "data": {
      "application/vnd.jupyter.widget-view+json": {
       "model_id": "5891b938cb76402987ac007bc6c508c0",
       "version_major": 2,
       "version_minor": 0
      },
      "text/plain": [
       "Calculating mean raster:   0%|          | 0/103 [00:00<?, ?it/s]"
      ]
     },
     "metadata": {},
     "output_type": "display_data"
    },
    {
     "name": "stdout",
     "output_type": "stream",
     "text": [
      "Processing /Users/phillipsm/Documents/Research/MassifMapping/Argyre_QGIS/shape_files/Argyre/categorized_olivine_2/T0431.gpkg...\n",
      "Reprojected CRS: PROJCS[\"Argyre-Lambert Conformal Conic [clon -45E]\",GEOGCS[\"GCS_Mars_2000_Sphere\",DATUM[\"Mars_2000_(Sphere)\",SPHEROID[\"Mars_2000_Sphere_IAU_IAG\",3396190,0],AUTHORITY[\"ESRI\",\"106971\"]],PRIMEM[\"Reference_Meridian\",0],UNIT[\"Degree\",0.0174532925199433]],PROJECTION[\"Lambert_Conformal_Conic_2SP\"],PARAMETER[\"latitude_of_origin\",0],PARAMETER[\"central_meridian\",-45],PARAMETER[\"standard_parallel_1\",-35.83333],PARAMETER[\"standard_parallel_2\",-59.16666],PARAMETER[\"false_easting\",0],PARAMETER[\"false_northing\",0],UNIT[\"metre\",1,AUTHORITY[\"EPSG\",\"9001\"]],AXIS[\"Easting\",EAST],AXIS[\"Northing\",NORTH]]\n"
     ]
    },
    {
     "data": {
      "application/vnd.jupyter.widget-view+json": {
       "model_id": "820b1cc5f3e24465ae12d80e3cfab205",
       "version_major": 2,
       "version_minor": 0
      },
      "text/plain": [
       "Calculating mean raster:   0%|          | 0/39 [00:00<?, ?it/s]"
      ]
     },
     "metadata": {},
     "output_type": "display_data"
    },
    {
     "name": "stdout",
     "output_type": "stream",
     "text": [
      "Processing /Users/phillipsm/Documents/Research/MassifMapping/Argyre_QGIS/shape_files/Argyre/categorized_olivine_2/T0364.gpkg...\n",
      "Reprojected CRS: PROJCS[\"Argyre-Lambert Conformal Conic [clon -45E]\",GEOGCS[\"GCS_Mars_2000_Sphere\",DATUM[\"Mars_2000_(Sphere)\",SPHEROID[\"Mars_2000_Sphere_IAU_IAG\",3396190,0],AUTHORITY[\"ESRI\",\"106971\"]],PRIMEM[\"Reference_Meridian\",0],UNIT[\"Degree\",0.0174532925199433]],PROJECTION[\"Lambert_Conformal_Conic_2SP\"],PARAMETER[\"latitude_of_origin\",0],PARAMETER[\"central_meridian\",-45],PARAMETER[\"standard_parallel_1\",-35.83333],PARAMETER[\"standard_parallel_2\",-59.16666],PARAMETER[\"false_easting\",0],PARAMETER[\"false_northing\",0],UNIT[\"metre\",1,AUTHORITY[\"EPSG\",\"9001\"]],AXIS[\"Easting\",EAST],AXIS[\"Northing\",NORTH]]\n"
     ]
    },
    {
     "data": {
      "application/vnd.jupyter.widget-view+json": {
       "model_id": "c5950dbc9dfc4a6dbe1c3542be2a648c",
       "version_major": 2,
       "version_minor": 0
      },
      "text/plain": [
       "Calculating mean raster:   0%|          | 0/295 [00:00<?, ?it/s]"
      ]
     },
     "metadata": {},
     "output_type": "display_data"
    },
    {
     "name": "stdout",
     "output_type": "stream",
     "text": [
      "Processing /Users/phillipsm/Documents/Research/MassifMapping/Argyre_QGIS/shape_files/Argyre/categorized_olivine_2/T0237.gpkg...\n",
      "Reprojected CRS: PROJCS[\"Argyre-Lambert Conformal Conic [clon -45E]\",GEOGCS[\"GCS_Mars_2000_Sphere\",DATUM[\"Mars_2000_(Sphere)\",SPHEROID[\"Mars_2000_Sphere_IAU_IAG\",3396190,0],AUTHORITY[\"ESRI\",\"106971\"]],PRIMEM[\"Reference_Meridian\",0],UNIT[\"Degree\",0.0174532925199433]],PROJECTION[\"Lambert_Conformal_Conic_2SP\"],PARAMETER[\"latitude_of_origin\",0],PARAMETER[\"central_meridian\",-45],PARAMETER[\"standard_parallel_1\",-35.83333],PARAMETER[\"standard_parallel_2\",-59.16666],PARAMETER[\"false_easting\",0],PARAMETER[\"false_northing\",0],UNIT[\"metre\",1,AUTHORITY[\"EPSG\",\"9001\"]],AXIS[\"Easting\",EAST],AXIS[\"Northing\",NORTH]]\n"
     ]
    },
    {
     "data": {
      "application/vnd.jupyter.widget-view+json": {
       "model_id": "86aed6edc36e45fead59ea651a258d3d",
       "version_major": 2,
       "version_minor": 0
      },
      "text/plain": [
       "Calculating mean raster:   0%|          | 0/65 [00:00<?, ?it/s]"
      ]
     },
     "metadata": {},
     "output_type": "display_data"
    },
    {
     "name": "stdout",
     "output_type": "stream",
     "text": [
      "Processing /Users/phillipsm/Documents/Research/MassifMapping/Argyre_QGIS/shape_files/Argyre/categorized_olivine_2/T0240.gpkg...\n",
      "Reprojected CRS: PROJCS[\"Argyre-Lambert Conformal Conic [clon -45E]\",GEOGCS[\"GCS_Mars_2000_Sphere\",DATUM[\"Mars_2000_(Sphere)\",SPHEROID[\"Mars_2000_Sphere_IAU_IAG\",3396190,0],AUTHORITY[\"ESRI\",\"106971\"]],PRIMEM[\"Reference_Meridian\",0],UNIT[\"Degree\",0.0174532925199433]],PROJECTION[\"Lambert_Conformal_Conic_2SP\"],PARAMETER[\"latitude_of_origin\",0],PARAMETER[\"central_meridian\",-45],PARAMETER[\"standard_parallel_1\",-35.83333],PARAMETER[\"standard_parallel_2\",-59.16666],PARAMETER[\"false_easting\",0],PARAMETER[\"false_northing\",0],UNIT[\"metre\",1,AUTHORITY[\"EPSG\",\"9001\"]],AXIS[\"Easting\",EAST],AXIS[\"Northing\",NORTH]]\n"
     ]
    },
    {
     "data": {
      "application/vnd.jupyter.widget-view+json": {
       "model_id": "dce6172ffba648edb28a2f3377fb56ba",
       "version_major": 2,
       "version_minor": 0
      },
      "text/plain": [
       "Calculating mean raster:   0%|          | 0/103 [00:00<?, ?it/s]"
      ]
     },
     "metadata": {},
     "output_type": "display_data"
    },
    {
     "name": "stdout",
     "output_type": "stream",
     "text": [
      "Processing /Users/phillipsm/Documents/Research/MassifMapping/Argyre_QGIS/shape_files/Argyre/categorized_olivine_2/T0578.gpkg...\n",
      "Reprojected CRS: PROJCS[\"Argyre-Lambert Conformal Conic [clon -45E]\",GEOGCS[\"GCS_Mars_2000_Sphere\",DATUM[\"Mars_2000_(Sphere)\",SPHEROID[\"Mars_2000_Sphere_IAU_IAG\",3396190,0],AUTHORITY[\"ESRI\",\"106971\"]],PRIMEM[\"Reference_Meridian\",0],UNIT[\"Degree\",0.0174532925199433]],PROJECTION[\"Lambert_Conformal_Conic_2SP\"],PARAMETER[\"latitude_of_origin\",0],PARAMETER[\"central_meridian\",-45],PARAMETER[\"standard_parallel_1\",-35.83333],PARAMETER[\"standard_parallel_2\",-59.16666],PARAMETER[\"false_easting\",0],PARAMETER[\"false_northing\",0],UNIT[\"metre\",1,AUTHORITY[\"EPSG\",\"9001\"]],AXIS[\"Easting\",EAST],AXIS[\"Northing\",NORTH]]\n"
     ]
    },
    {
     "data": {
      "application/vnd.jupyter.widget-view+json": {
       "model_id": "63e2fb8d46b948d99ece72d79322c46e",
       "version_major": 2,
       "version_minor": 0
      },
      "text/plain": [
       "Calculating mean raster:   0%|          | 0/18 [00:00<?, ?it/s]"
      ]
     },
     "metadata": {},
     "output_type": "display_data"
    },
    {
     "name": "stdout",
     "output_type": "stream",
     "text": [
      "Processing /Users/phillipsm/Documents/Research/MassifMapping/Argyre_QGIS/shape_files/Argyre/categorized_olivine_2/T0503.gpkg...\n",
      "Reprojected CRS: PROJCS[\"Argyre-Lambert Conformal Conic [clon -45E]\",GEOGCS[\"GCS_Mars_2000_Sphere\",DATUM[\"Mars_2000_(Sphere)\",SPHEROID[\"Mars_2000_Sphere_IAU_IAG\",3396190,0],AUTHORITY[\"ESRI\",\"106971\"]],PRIMEM[\"Reference_Meridian\",0],UNIT[\"Degree\",0.0174532925199433]],PROJECTION[\"Lambert_Conformal_Conic_2SP\"],PARAMETER[\"latitude_of_origin\",0],PARAMETER[\"central_meridian\",-45],PARAMETER[\"standard_parallel_1\",-35.83333],PARAMETER[\"standard_parallel_2\",-59.16666],PARAMETER[\"false_easting\",0],PARAMETER[\"false_northing\",0],UNIT[\"metre\",1,AUTHORITY[\"EPSG\",\"9001\"]],AXIS[\"Easting\",EAST],AXIS[\"Northing\",NORTH]]\n"
     ]
    },
    {
     "data": {
      "application/vnd.jupyter.widget-view+json": {
       "model_id": "cbe42e8eb8354c8c80557d9fe76bb10f",
       "version_major": 2,
       "version_minor": 0
      },
      "text/plain": [
       "Calculating mean raster:   0%|          | 0/51 [00:00<?, ?it/s]"
      ]
     },
     "metadata": {},
     "output_type": "display_data"
    },
    {
     "name": "stdout",
     "output_type": "stream",
     "text": [
      "Processing /Users/phillipsm/Documents/Research/MassifMapping/Argyre_QGIS/shape_files/Argyre/categorized_olivine_2/T0294.gpkg...\n",
      "Reprojected CRS: PROJCS[\"Argyre-Lambert Conformal Conic [clon -45E]\",GEOGCS[\"GCS_Mars_2000_Sphere\",DATUM[\"Mars_2000_(Sphere)\",SPHEROID[\"Mars_2000_Sphere_IAU_IAG\",3396190,0],AUTHORITY[\"ESRI\",\"106971\"]],PRIMEM[\"Reference_Meridian\",0],UNIT[\"Degree\",0.0174532925199433]],PROJECTION[\"Lambert_Conformal_Conic_2SP\"],PARAMETER[\"latitude_of_origin\",0],PARAMETER[\"central_meridian\",-45],PARAMETER[\"standard_parallel_1\",-35.83333],PARAMETER[\"standard_parallel_2\",-59.16666],PARAMETER[\"false_easting\",0],PARAMETER[\"false_northing\",0],UNIT[\"metre\",1,AUTHORITY[\"EPSG\",\"9001\"]],AXIS[\"Easting\",EAST],AXIS[\"Northing\",NORTH]]\n"
     ]
    },
    {
     "data": {
      "application/vnd.jupyter.widget-view+json": {
       "model_id": "a245beda519048aa81caed47b7faa540",
       "version_major": 2,
       "version_minor": 0
      },
      "text/plain": [
       "Calculating mean raster:   0%|          | 0/41 [00:00<?, ?it/s]"
      ]
     },
     "metadata": {},
     "output_type": "display_data"
    },
    {
     "name": "stdout",
     "output_type": "stream",
     "text": [
      "Processing /Users/phillipsm/Documents/Research/MassifMapping/Argyre_QGIS/shape_files/Argyre/categorized_olivine_2/T0579.gpkg...\n",
      "Reprojected CRS: PROJCS[\"Argyre-Lambert Conformal Conic [clon -45E]\",GEOGCS[\"GCS_Mars_2000_Sphere\",DATUM[\"Mars_2000_(Sphere)\",SPHEROID[\"Mars_2000_Sphere_IAU_IAG\",3396190,0],AUTHORITY[\"ESRI\",\"106971\"]],PRIMEM[\"Reference_Meridian\",0],UNIT[\"Degree\",0.0174532925199433]],PROJECTION[\"Lambert_Conformal_Conic_2SP\"],PARAMETER[\"latitude_of_origin\",0],PARAMETER[\"central_meridian\",-45],PARAMETER[\"standard_parallel_1\",-35.83333],PARAMETER[\"standard_parallel_2\",-59.16666],PARAMETER[\"false_easting\",0],PARAMETER[\"false_northing\",0],UNIT[\"metre\",1,AUTHORITY[\"EPSG\",\"9001\"]],AXIS[\"Easting\",EAST],AXIS[\"Northing\",NORTH]]\n"
     ]
    },
    {
     "data": {
      "application/vnd.jupyter.widget-view+json": {
       "model_id": "4cb0086b9c5543fa85ee06dc01e9fd13",
       "version_major": 2,
       "version_minor": 0
      },
      "text/plain": [
       "Calculating mean raster:   0%|          | 0/73 [00:00<?, ?it/s]"
      ]
     },
     "metadata": {},
     "output_type": "display_data"
    },
    {
     "name": "stdout",
     "output_type": "stream",
     "text": [
      "Processing /Users/phillipsm/Documents/Research/MassifMapping/Argyre_QGIS/shape_files/Argyre/categorized_olivine_2/T0580.gpkg...\n",
      "Reprojected CRS: PROJCS[\"Argyre-Lambert Conformal Conic [clon -45E]\",GEOGCS[\"GCS_Mars_2000_Sphere\",DATUM[\"Mars_2000_(Sphere)\",SPHEROID[\"Mars_2000_Sphere_IAU_IAG\",3396190,0],AUTHORITY[\"ESRI\",\"106971\"]],PRIMEM[\"Reference_Meridian\",0],UNIT[\"Degree\",0.0174532925199433]],PROJECTION[\"Lambert_Conformal_Conic_2SP\"],PARAMETER[\"latitude_of_origin\",0],PARAMETER[\"central_meridian\",-45],PARAMETER[\"standard_parallel_1\",-35.83333],PARAMETER[\"standard_parallel_2\",-59.16666],PARAMETER[\"false_easting\",0],PARAMETER[\"false_northing\",0],UNIT[\"metre\",1,AUTHORITY[\"EPSG\",\"9001\"]],AXIS[\"Easting\",EAST],AXIS[\"Northing\",NORTH]]\n"
     ]
    },
    {
     "data": {
      "application/vnd.jupyter.widget-view+json": {
       "model_id": "19371ea45fb94bc989c154b4b6536831",
       "version_major": 2,
       "version_minor": 0
      },
      "text/plain": [
       "Calculating mean raster:   0%|          | 0/10 [00:00<?, ?it/s]"
      ]
     },
     "metadata": {},
     "output_type": "display_data"
    },
    {
     "name": "stdout",
     "output_type": "stream",
     "text": [
      "Processing /Users/phillipsm/Documents/Research/MassifMapping/Argyre_QGIS/shape_files/Argyre/categorized_olivine_2/T0236.gpkg...\n",
      "Reprojected CRS: PROJCS[\"Argyre-Lambert Conformal Conic [clon -45E]\",GEOGCS[\"GCS_Mars_2000_Sphere\",DATUM[\"Mars_2000_(Sphere)\",SPHEROID[\"Mars_2000_Sphere_IAU_IAG\",3396190,0],AUTHORITY[\"ESRI\",\"106971\"]],PRIMEM[\"Reference_Meridian\",0],UNIT[\"Degree\",0.0174532925199433]],PROJECTION[\"Lambert_Conformal_Conic_2SP\"],PARAMETER[\"latitude_of_origin\",0],PARAMETER[\"central_meridian\",-45],PARAMETER[\"standard_parallel_1\",-35.83333],PARAMETER[\"standard_parallel_2\",-59.16666],PARAMETER[\"false_easting\",0],PARAMETER[\"false_northing\",0],UNIT[\"metre\",1,AUTHORITY[\"EPSG\",\"9001\"]],AXIS[\"Easting\",EAST],AXIS[\"Northing\",NORTH]]\n"
     ]
    },
    {
     "data": {
      "application/vnd.jupyter.widget-view+json": {
       "model_id": "5c09fb9ba1ef4b2cb9b8ae856742585e",
       "version_major": 2,
       "version_minor": 0
      },
      "text/plain": [
       "Calculating mean raster:   0%|          | 0/114 [00:00<?, ?it/s]"
      ]
     },
     "metadata": {},
     "output_type": "display_data"
    },
    {
     "name": "stdout",
     "output_type": "stream",
     "text": [
      "Processing /Users/phillipsm/Documents/Research/MassifMapping/Argyre_QGIS/shape_files/Argyre/categorized_olivine_2/T0365.gpkg...\n",
      "Reprojected CRS: PROJCS[\"Argyre-Lambert Conformal Conic [clon -45E]\",GEOGCS[\"GCS_Mars_2000_Sphere\",DATUM[\"Mars_2000_(Sphere)\",SPHEROID[\"Mars_2000_Sphere_IAU_IAG\",3396190,0],AUTHORITY[\"ESRI\",\"106971\"]],PRIMEM[\"Reference_Meridian\",0],UNIT[\"Degree\",0.0174532925199433]],PROJECTION[\"Lambert_Conformal_Conic_2SP\"],PARAMETER[\"latitude_of_origin\",0],PARAMETER[\"central_meridian\",-45],PARAMETER[\"standard_parallel_1\",-35.83333],PARAMETER[\"standard_parallel_2\",-59.16666],PARAMETER[\"false_easting\",0],PARAMETER[\"false_northing\",0],UNIT[\"metre\",1,AUTHORITY[\"EPSG\",\"9001\"]],AXIS[\"Easting\",EAST],AXIS[\"Northing\",NORTH]]\n"
     ]
    },
    {
     "data": {
      "application/vnd.jupyter.widget-view+json": {
       "model_id": "3b4f07bf50b64fdaacc2235ac63dee9c",
       "version_major": 2,
       "version_minor": 0
      },
      "text/plain": [
       "Calculating mean raster:   0%|          | 0/58 [00:00<?, ?it/s]"
      ]
     },
     "metadata": {},
     "output_type": "display_data"
    },
    {
     "name": "stdout",
     "output_type": "stream",
     "text": [
      "Processing /Users/phillipsm/Documents/Research/MassifMapping/Argyre_QGIS/shape_files/Argyre/categorized_olivine_2/T0505.gpkg...\n",
      "Reprojected CRS: PROJCS[\"Argyre-Lambert Conformal Conic [clon -45E]\",GEOGCS[\"GCS_Mars_2000_Sphere\",DATUM[\"Mars_2000_(Sphere)\",SPHEROID[\"Mars_2000_Sphere_IAU_IAG\",3396190,0],AUTHORITY[\"ESRI\",\"106971\"]],PRIMEM[\"Reference_Meridian\",0],UNIT[\"Degree\",0.0174532925199433]],PROJECTION[\"Lambert_Conformal_Conic_2SP\"],PARAMETER[\"latitude_of_origin\",0],PARAMETER[\"central_meridian\",-45],PARAMETER[\"standard_parallel_1\",-35.83333],PARAMETER[\"standard_parallel_2\",-59.16666],PARAMETER[\"false_easting\",0],PARAMETER[\"false_northing\",0],UNIT[\"metre\",1,AUTHORITY[\"EPSG\",\"9001\"]],AXIS[\"Easting\",EAST],AXIS[\"Northing\",NORTH]]\n"
     ]
    },
    {
     "data": {
      "application/vnd.jupyter.widget-view+json": {
       "model_id": "d400cec7c98d4298909d350a11322212",
       "version_major": 2,
       "version_minor": 0
      },
      "text/plain": [
       "Calculating mean raster:   0%|          | 0/110 [00:00<?, ?it/s]"
      ]
     },
     "metadata": {},
     "output_type": "display_data"
    },
    {
     "name": "stdout",
     "output_type": "stream",
     "text": [
      "Processing /Users/phillipsm/Documents/Research/MassifMapping/Argyre_QGIS/shape_files/Argyre/categorized_olivine_2/T0293.gpkg...\n",
      "Reprojected CRS: PROJCS[\"Argyre-Lambert Conformal Conic [clon -45E]\",GEOGCS[\"GCS_Mars_2000_Sphere\",DATUM[\"Mars_2000_(Sphere)\",SPHEROID[\"Mars_2000_Sphere_IAU_IAG\",3396190,0],AUTHORITY[\"ESRI\",\"106971\"]],PRIMEM[\"Reference_Meridian\",0],UNIT[\"Degree\",0.0174532925199433]],PROJECTION[\"Lambert_Conformal_Conic_2SP\"],PARAMETER[\"latitude_of_origin\",0],PARAMETER[\"central_meridian\",-45],PARAMETER[\"standard_parallel_1\",-35.83333],PARAMETER[\"standard_parallel_2\",-59.16666],PARAMETER[\"false_easting\",0],PARAMETER[\"false_northing\",0],UNIT[\"metre\",1,AUTHORITY[\"EPSG\",\"9001\"]],AXIS[\"Easting\",EAST],AXIS[\"Northing\",NORTH]]\n"
     ]
    },
    {
     "data": {
      "application/vnd.jupyter.widget-view+json": {
       "model_id": "35659ea0c9fc47e9bb4abffc0ef66293",
       "version_major": 2,
       "version_minor": 0
      },
      "text/plain": [
       "Calculating mean raster:   0%|          | 0/49 [00:00<?, ?it/s]"
      ]
     },
     "metadata": {},
     "output_type": "display_data"
    },
    {
     "name": "stdout",
     "output_type": "stream",
     "text": [
      "Processing /Users/phillipsm/Documents/Research/MassifMapping/Argyre_QGIS/shape_files/Argyre/categorized_olivine_2/T0437.gpkg...\n",
      "Reprojected CRS: PROJCS[\"Argyre-Lambert Conformal Conic [clon -45E]\",GEOGCS[\"GCS_Mars_2000_Sphere\",DATUM[\"Mars_2000_(Sphere)\",SPHEROID[\"Mars_2000_Sphere_IAU_IAG\",3396190,0],AUTHORITY[\"ESRI\",\"106971\"]],PRIMEM[\"Reference_Meridian\",0],UNIT[\"Degree\",0.0174532925199433]],PROJECTION[\"Lambert_Conformal_Conic_2SP\"],PARAMETER[\"latitude_of_origin\",0],PARAMETER[\"central_meridian\",-45],PARAMETER[\"standard_parallel_1\",-35.83333],PARAMETER[\"standard_parallel_2\",-59.16666],PARAMETER[\"false_easting\",0],PARAMETER[\"false_northing\",0],UNIT[\"metre\",1,AUTHORITY[\"EPSG\",\"9001\"]],AXIS[\"Easting\",EAST],AXIS[\"Northing\",NORTH]]\n"
     ]
    },
    {
     "data": {
      "application/vnd.jupyter.widget-view+json": {
       "model_id": "1ca3a1548d454d26853cf28b01767460",
       "version_major": 2,
       "version_minor": 0
      },
      "text/plain": [
       "Calculating mean raster:   0%|          | 0/84 [00:00<?, ?it/s]"
      ]
     },
     "metadata": {},
     "output_type": "display_data"
    },
    {
     "name": "stdout",
     "output_type": "stream",
     "text": [
      "Processing /Users/phillipsm/Documents/Research/MassifMapping/Argyre_QGIS/shape_files/Argyre/categorized_olivine_2/T0362.gpkg...\n",
      "Reprojected CRS: PROJCS[\"Argyre-Lambert Conformal Conic [clon -45E]\",GEOGCS[\"GCS_Mars_2000_Sphere\",DATUM[\"Mars_2000_(Sphere)\",SPHEROID[\"Mars_2000_Sphere_IAU_IAG\",3396190,0],AUTHORITY[\"ESRI\",\"106971\"]],PRIMEM[\"Reference_Meridian\",0],UNIT[\"Degree\",0.0174532925199433]],PROJECTION[\"Lambert_Conformal_Conic_2SP\"],PARAMETER[\"latitude_of_origin\",0],PARAMETER[\"central_meridian\",-45],PARAMETER[\"standard_parallel_1\",-35.83333],PARAMETER[\"standard_parallel_2\",-59.16666],PARAMETER[\"false_easting\",0],PARAMETER[\"false_northing\",0],UNIT[\"metre\",1,AUTHORITY[\"EPSG\",\"9001\"]],AXIS[\"Easting\",EAST],AXIS[\"Northing\",NORTH]]\n"
     ]
    },
    {
     "data": {
      "application/vnd.jupyter.widget-view+json": {
       "model_id": "f3039737d43d4cc8993121dec6e31bb7",
       "version_major": 2,
       "version_minor": 0
      },
      "text/plain": [
       "Calculating mean raster:   0%|          | 0/5 [00:00<?, ?it/s]"
      ]
     },
     "metadata": {},
     "output_type": "display_data"
    },
    {
     "name": "stdout",
     "output_type": "stream",
     "text": [
      "Processing /Users/phillipsm/Documents/Research/MassifMapping/Argyre_QGIS/shape_files/Argyre/categorized_olivine_2/T0289.gpkg...\n",
      "Reprojected CRS: PROJCS[\"Argyre-Lambert Conformal Conic [clon -45E]\",GEOGCS[\"GCS_Mars_2000_Sphere\",DATUM[\"Mars_2000_(Sphere)\",SPHEROID[\"Mars_2000_Sphere_IAU_IAG\",3396190,0],AUTHORITY[\"ESRI\",\"106971\"]],PRIMEM[\"Reference_Meridian\",0],UNIT[\"Degree\",0.0174532925199433]],PROJECTION[\"Lambert_Conformal_Conic_2SP\"],PARAMETER[\"latitude_of_origin\",0],PARAMETER[\"central_meridian\",-45],PARAMETER[\"standard_parallel_1\",-35.83333],PARAMETER[\"standard_parallel_2\",-59.16666],PARAMETER[\"false_easting\",0],PARAMETER[\"false_northing\",0],UNIT[\"metre\",1,AUTHORITY[\"EPSG\",\"9001\"]],AXIS[\"Easting\",EAST],AXIS[\"Northing\",NORTH]]\n"
     ]
    },
    {
     "data": {
      "application/vnd.jupyter.widget-view+json": {
       "model_id": "1145743cdfa84f508cdd1de648db511e",
       "version_major": 2,
       "version_minor": 0
      },
      "text/plain": [
       "Calculating mean raster:   0%|          | 0/7 [00:00<?, ?it/s]"
      ]
     },
     "metadata": {},
     "output_type": "display_data"
    },
    {
     "name": "stdout",
     "output_type": "stream",
     "text": [
      "Processing /Users/phillipsm/Documents/Research/MassifMapping/Argyre_QGIS/shape_files/Argyre/categorized_olivine_2/T0363.gpkg...\n",
      "Reprojected CRS: PROJCS[\"Argyre-Lambert Conformal Conic [clon -45E]\",GEOGCS[\"GCS_Mars_2000_Sphere\",DATUM[\"Mars_2000_(Sphere)\",SPHEROID[\"Mars_2000_Sphere_IAU_IAG\",3396190,0],AUTHORITY[\"ESRI\",\"106971\"]],PRIMEM[\"Reference_Meridian\",0],UNIT[\"Degree\",0.0174532925199433]],PROJECTION[\"Lambert_Conformal_Conic_2SP\"],PARAMETER[\"latitude_of_origin\",0],PARAMETER[\"central_meridian\",-45],PARAMETER[\"standard_parallel_1\",-35.83333],PARAMETER[\"standard_parallel_2\",-59.16666],PARAMETER[\"false_easting\",0],PARAMETER[\"false_northing\",0],UNIT[\"metre\",1,AUTHORITY[\"EPSG\",\"9001\"]],AXIS[\"Easting\",EAST],AXIS[\"Northing\",NORTH]]\n"
     ]
    },
    {
     "data": {
      "application/vnd.jupyter.widget-view+json": {
       "model_id": "0e3ef6c96c964b4bbd4781831aed1772",
       "version_major": 2,
       "version_minor": 0
      },
      "text/plain": [
       "Calculating mean raster:   0%|          | 0/93 [00:00<?, ?it/s]"
      ]
     },
     "metadata": {},
     "output_type": "display_data"
    },
    {
     "name": "stdout",
     "output_type": "stream",
     "text": [
      "Processing /Users/phillipsm/Documents/Research/MassifMapping/Argyre_QGIS/shape_files/Argyre/categorized_olivine_2/T0508.gpkg...\n",
      "Reprojected CRS: PROJCS[\"Argyre-Lambert Conformal Conic [clon -45E]\",GEOGCS[\"GCS_Mars_2000_Sphere\",DATUM[\"Mars_2000_(Sphere)\",SPHEROID[\"Mars_2000_Sphere_IAU_IAG\",3396190,0],AUTHORITY[\"ESRI\",\"106971\"]],PRIMEM[\"Reference_Meridian\",0],UNIT[\"Degree\",0.0174532925199433]],PROJECTION[\"Lambert_Conformal_Conic_2SP\"],PARAMETER[\"latitude_of_origin\",0],PARAMETER[\"central_meridian\",-45],PARAMETER[\"standard_parallel_1\",-35.83333],PARAMETER[\"standard_parallel_2\",-59.16666],PARAMETER[\"false_easting\",0],PARAMETER[\"false_northing\",0],UNIT[\"metre\",1,AUTHORITY[\"EPSG\",\"9001\"]],AXIS[\"Easting\",EAST],AXIS[\"Northing\",NORTH]]\n"
     ]
    },
    {
     "data": {
      "application/vnd.jupyter.widget-view+json": {
       "model_id": "7efc30eb34f74c61878fa5b809fd58c7",
       "version_major": 2,
       "version_minor": 0
      },
      "text/plain": [
       "Calculating mean raster:   0%|          | 0/34 [00:00<?, ?it/s]"
      ]
     },
     "metadata": {},
     "output_type": "display_data"
    },
    {
     "name": "stdout",
     "output_type": "stream",
     "text": [
      "Processing /Users/phillipsm/Documents/Research/MassifMapping/Argyre_QGIS/shape_files/Argyre/categorized_olivine_2/T0436.gpkg...\n",
      "Reprojected CRS: PROJCS[\"Argyre-Lambert Conformal Conic [clon -45E]\",GEOGCS[\"GCS_Mars_2000_Sphere\",DATUM[\"Mars_2000_(Sphere)\",SPHEROID[\"Mars_2000_Sphere_IAU_IAG\",3396190,0],AUTHORITY[\"ESRI\",\"106971\"]],PRIMEM[\"Reference_Meridian\",0],UNIT[\"Degree\",0.0174532925199433]],PROJECTION[\"Lambert_Conformal_Conic_2SP\"],PARAMETER[\"latitude_of_origin\",0],PARAMETER[\"central_meridian\",-45],PARAMETER[\"standard_parallel_1\",-35.83333],PARAMETER[\"standard_parallel_2\",-59.16666],PARAMETER[\"false_easting\",0],PARAMETER[\"false_northing\",0],UNIT[\"metre\",1,AUTHORITY[\"EPSG\",\"9001\"]],AXIS[\"Easting\",EAST],AXIS[\"Northing\",NORTH]]\n"
     ]
    },
    {
     "data": {
      "application/vnd.jupyter.widget-view+json": {
       "model_id": "ff6c9c026e374b4a807563ac98cd690e",
       "version_major": 2,
       "version_minor": 0
      },
      "text/plain": [
       "Calculating mean raster:   0%|          | 0/177 [00:00<?, ?it/s]"
      ]
     },
     "metadata": {},
     "output_type": "display_data"
    },
    {
     "name": "stdout",
     "output_type": "stream",
     "text": [
      "Processing /Users/phillipsm/Documents/Research/MassifMapping/Argyre_QGIS/shape_files/Argyre/categorized_olivine_2/T0359.gpkg...\n",
      "Reprojected CRS: PROJCS[\"Argyre-Lambert Conformal Conic [clon -45E]\",GEOGCS[\"GCS_Mars_2000_Sphere\",DATUM[\"Mars_2000_(Sphere)\",SPHEROID[\"Mars_2000_Sphere_IAU_IAG\",3396190,0],AUTHORITY[\"ESRI\",\"106971\"]],PRIMEM[\"Reference_Meridian\",0],UNIT[\"Degree\",0.0174532925199433]],PROJECTION[\"Lambert_Conformal_Conic_2SP\"],PARAMETER[\"latitude_of_origin\",0],PARAMETER[\"central_meridian\",-45],PARAMETER[\"standard_parallel_1\",-35.83333],PARAMETER[\"standard_parallel_2\",-59.16666],PARAMETER[\"false_easting\",0],PARAMETER[\"false_northing\",0],UNIT[\"metre\",1,AUTHORITY[\"EPSG\",\"9001\"]],AXIS[\"Easting\",EAST],AXIS[\"Northing\",NORTH]]\n"
     ]
    },
    {
     "data": {
      "application/vnd.jupyter.widget-view+json": {
       "model_id": "8c3bf176faef4490bde52f3adabe2e39",
       "version_major": 2,
       "version_minor": 0
      },
      "text/plain": [
       "Calculating mean raster:   0%|          | 0/38 [00:00<?, ?it/s]"
      ]
     },
     "metadata": {},
     "output_type": "display_data"
    },
    {
     "name": "stdout",
     "output_type": "stream",
     "text": [
      "Processing /Users/phillipsm/Documents/Research/MassifMapping/Argyre_QGIS/shape_files/Argyre/categorized_olivine_2/T0504.gpkg...\n",
      "Reprojected CRS: PROJCS[\"Argyre-Lambert Conformal Conic [clon -45E]\",GEOGCS[\"GCS_Mars_2000_Sphere\",DATUM[\"Mars_2000_(Sphere)\",SPHEROID[\"Mars_2000_Sphere_IAU_IAG\",3396190,0],AUTHORITY[\"ESRI\",\"106971\"]],PRIMEM[\"Reference_Meridian\",0],UNIT[\"Degree\",0.0174532925199433]],PROJECTION[\"Lambert_Conformal_Conic_2SP\"],PARAMETER[\"latitude_of_origin\",0],PARAMETER[\"central_meridian\",-45],PARAMETER[\"standard_parallel_1\",-35.83333],PARAMETER[\"standard_parallel_2\",-59.16666],PARAMETER[\"false_easting\",0],PARAMETER[\"false_northing\",0],UNIT[\"metre\",1,AUTHORITY[\"EPSG\",\"9001\"]],AXIS[\"Easting\",EAST],AXIS[\"Northing\",NORTH]]\n"
     ]
    },
    {
     "data": {
      "application/vnd.jupyter.widget-view+json": {
       "model_id": "9b2dc6aa57904c9f941a79d91c6b9b0a",
       "version_major": 2,
       "version_minor": 0
      },
      "text/plain": [
       "Calculating mean raster:   0%|          | 0/130 [00:00<?, ?it/s]"
      ]
     },
     "metadata": {},
     "output_type": "display_data"
    }
   ],
   "source": [
    "import os\n",
    "import geopandas as gpd\n",
    "import rasterio\n",
    "from rasterio.mask import mask\n",
    "from rasterio.warp import calculate_default_transform, reproject, Resampling\n",
    "import numpy as np\n",
    "import pandas as pd\n",
    "from tqdm.notebook import tqdm\n",
    "from shapely.wkt import loads\n",
    "from osgeo import osr\n",
    "from pyproj import CRS\n",
    "import math\n",
    "import warnings\n",
    "\n",
    "# Function to reproject raster to match CRS of polygons\n",
    "def reproject_raster_to_match_polygons(src, polygons_crs):\n",
    "    if src.crs != polygons_crs:\n",
    "        # Reproject raster to match polygons CRS\n",
    "        transform, width, height = calculate_default_transform(src.crs, polygons_crs, src.width, src.height, *src.bounds)\n",
    "        kwargs = src.meta.copy()\n",
    "        kwargs.update({\n",
    "            'crs': polygons_crs,\n",
    "            'transform': transform,\n",
    "            'width': width,\n",
    "            'height': height\n",
    "        })\n",
    "\n",
    "        reprojected_data = np.empty((src.count, height, width), dtype=src.dtypes[0])\n",
    "        reproject(\n",
    "            source=src.read(),\n",
    "            destination=reprojected_data,\n",
    "            src_transform=src.transform,\n",
    "            src_crs=src.crs,\n",
    "            dst_transform=transform,\n",
    "            dst_crs=polygons_crs,\n",
    "            resampling=Resampling.nearest\n",
    "        )\n",
    "\n",
    "        return reprojected_data, kwargs\n",
    "    else:\n",
    "        return '_', src.meta\n",
    "\n",
    "# Radius of Mars in kilometers at Argyre (assuming ellipsoid with 3396.19, 3376.2)\n",
    "R_MARS = 3384.5\n",
    "\n",
    "def haversine(lat1, lon1, lat2, lon2):\n",
    "    \"\"\"\n",
    "    Calculate the distance between two points on Mars (in kilometers)\n",
    "    given their latitudes and longitudes.\n",
    "    \n",
    "    :param lat1: Latitude of the first point in degrees\n",
    "    :param lon1: Longitude of the first point in degrees\n",
    "    :param lat2: Latitude of the second point in degrees\n",
    "    :param lon2: Longitude of the second point in degrees\n",
    "    :return: Distance between the two points in kilometers\n",
    "    \"\"\"\n",
    "    # Convert latitude and longitude from degrees to radians\n",
    "    lat1, lon1, lat2, lon2 = map(math.radians, [lat1, lon1, lat2, lon2])\n",
    "\n",
    "    # Haversine formula\n",
    "    dlat = lat2 - lat1\n",
    "    dlon = lon2 - lon1\n",
    "\n",
    "    a = math.sin(dlat / 2) ** 2 + math.cos(lat1) * math.cos(lat2) * math.sin(dlon / 2) ** 2\n",
    "    c = 2 * math.atan2(math.sqrt(a), math.sqrt(1 - a))\n",
    "\n",
    "    # Distance in kilometers\n",
    "    d = R_MARS * c\n",
    "    return d\n",
    "\n",
    "def custom_distance(p1, p2):\n",
    "    lon1, lat1 = p1.x, p1.y\n",
    "    lon2, lat2 = p2.x, p2.y\n",
    "    return round(haversine(lon1, lat1, lon2, lat2), 2)\n",
    "\n",
    "# Function to calculate representative point of each polygon\n",
    "def calculate_representative_point(polygons, key_):\n",
    "    polygons[f'representative_point_{key_}'] = polygons['geometry'].representative_point()\n",
    "    return polygons\n",
    "\n",
    "# Function to calculate mean of raster over each polygon\n",
    "def calculate_metadata(polygons, src1,  src2, geounits, single_point, source_file, crs):\n",
    "    # Suppress specific runtime warnings\n",
    "    warnings.filterwarnings('ignore', category=RuntimeWarning)\n",
    "\n",
    "    # List to store results\n",
    "    results = []\n",
    "\n",
    "    # Loop over each polygon\n",
    "    for idx, row in tqdm(polygons.iterrows(), total=len(polygons), desc=\"Calculating mean raster\"):\n",
    "        # Mask raster by each polygon\n",
    "        try:\n",
    "            out_image, out_transform = mask(src1, [row.geometry], crop=True)\n",
    "            ti_image, ti_transform = mask(src2, [row.geometry], crop=True)\n",
    "        except ValueError:\n",
    "            continue\n",
    "        \n",
    "        out_image = np.where(out_image < -8100, np.nan, out_image)\n",
    "        ti_image = np.where(ti_image < 0, np.nan, ti_image)\n",
    "\n",
    "        # Calculate mean\n",
    "        with np.errstate(invalid='ignore', divide='ignore'):\n",
    "            mean_value = np.nanmean(out_image)\n",
    "            mean_ti = np.nanmean(ti_image)\n",
    "\n",
    "        # Calculate distance from polygon's representative point to single point\n",
    "        p = row['representative_point_distance']\n",
    "        \n",
    "        distance = custom_distance(single_point, p)\n",
    "\n",
    "        cat, con = row['Category'].split('(')\n",
    "        con = con.replace(')', '') \n",
    "        cat = cat.strip()\n",
    "        con = con.strip()\n",
    "\n",
    "        geounits_gdf = gpd.read_file(geounits)\n",
    "        p = row['representative_point_units']\n",
    "        intersecting_features = geounits_gdf[geounits_gdf.intersects(p)]\n",
    "        try:\n",
    "            unit_name = intersecting_features['UnitName'].values[0]\n",
    "        except:\n",
    "            unit_name = 'None'\n",
    "        # if idx % 10 == 0:\n",
    "        #     print(f\"Unit name: {unit_name}\")\n",
    "        # Append results\n",
    "        results.append({\n",
    "            'Source File': source_file,\n",
    "            'Polygon_ID': idx,\n",
    "            'Polygon Number': row['Polygon Number'],\n",
    "            'Color': row['Color'],\n",
    "            'Mineral ID 1': row['Mineral ID 1'].lower(),\n",
    "            'Mineral ID 2': row['Mineral ID 2'].lower(),\n",
    "            'Mineral ID 3': row['Mineral ID 3'].lower(),\n",
    "            'Mineral ID 4': row['Mineral ID 4'].lower(),\n",
    "            'Category': cat.lower(),\n",
    "            'Confidence': con.lower(),\n",
    "            'Representative Point': row['representative_point_distance'],\n",
    "            'TI': mean_ti,\n",
    "            'Elevation_km': mean_value/1000,\n",
    "            'Distance_to_center_km': distance,\n",
    "            'GeoUnits': unit_name\n",
    "        })\n",
    "\n",
    "    # Create a DataFrame from results\n",
    "    df = pd.DataFrame(results)\n",
    "\n",
    "    return df\n",
    "\n",
    "# Function to save results to Excel\n",
    "def save_to_excel(df, excel_file):\n",
    "    df.to_excel(excel_file, index=False, engine='openpyxl')\n",
    "\n",
    "# Function to process all gpkg files in a folder\n",
    "def process_gpkg_folder(gpkg_folder, raster_file, raster_file_2, geounits, point_shapefile, output_excel, out_gpkg):\n",
    "    all_results = []\n",
    "    # Define Mars CRS\n",
    "    mars_crs_simple = {\n",
    "        'proj': 'longlat',\n",
    "        'ellps': 'sphere',\n",
    "        'a': 3396190,  # semi-major axis\n",
    "        'b': 3396190,  # semi-minor axis\n",
    "        'units': 'm',\n",
    "        'no_defs': True\n",
    "    }\n",
    "    # Path to your .prj file\n",
    "    prj_file_path = '/Users/phillipsm/Documents/Research/MassifMapping/ArgyreMap/Argyre_3M_preliminary/CoordinateSytems/Argyre_LCC_Mars2000sphere.prj'\n",
    "\n",
    "    # Function to read the .prj file and return the CRS as a WKT string\n",
    "    def read_prj_file(prj_file):\n",
    "        with open(prj_file, 'r') as file:\n",
    "            prj_text = file.read()\n",
    "        return prj_text\n",
    "    \n",
    "    # Read the .prj file\n",
    "    prj_text = read_prj_file(prj_file_path)\n",
    "\n",
    "    # Create an osr.SpatialReference object\n",
    "    spatial_ref = osr.SpatialReference()\n",
    "    spatial_ref.ImportFromWkt(prj_text)\n",
    "\n",
    "    # Convert to pyproj CRS\n",
    "    mars_crs = CRS.from_wkt(spatial_ref.ExportToWkt())\n",
    "\n",
    "    # Read the single point from shapefile into a GeoDataFrame\n",
    "    single_point_gdf = gpd.read_file(point_shapefile)\n",
    "\n",
    "    # Reproject the GeoDataFrame to the desired CRS\n",
    "    single_point_gdf = single_point_gdf.to_crs(mars_crs_simple)\n",
    "    \n",
    "    # Extract the reprojected geometry\n",
    "    single_point = single_point_gdf.iloc[0]['geometry']\n",
    "\n",
    "    # Print single point CRS for debugging\n",
    "    print(f\"Single point CRS: {single_point_gdf.crs}\")\n",
    "\n",
    "    # Open raster file\n",
    "    with rasterio.open(raster_file) as src1, rasterio.open(raster_file_2) as src2:\n",
    "        # raster_data, raster_meta = reproject_raster_to_match_polygons(src, polygons_crs=src.crs)\n",
    "\n",
    "        # List all .gpkg files in the folder\n",
    "        gpkg_files = [os.path.join(gpkg_folder, file) for file in os.listdir(gpkg_folder) if file.endswith('.gpkg')]\n",
    "\n",
    "        # Process each .gpkg file\n",
    "        for gpkg_file in gpkg_files:\n",
    "            print(f\"Processing {gpkg_file}...\")\n",
    "            # Read the polygon geometries from the .gpkg file\n",
    "            polygons = gpd.read_file(gpkg_file)\n",
    "\n",
    "            # Reproject polygons to Mars CRS\n",
    "            polygons = polygons.to_crs(mars_crs)\n",
    "            print(f\"Reprojected CRS: {polygons.crs}\")\n",
    "\n",
    "            # Calculate representative point for each polygon\n",
    "            p_crs = polygons.crs\n",
    "            polygons = polygons.to_crs(mars_crs_simple)\n",
    "            polygons = calculate_representative_point(polygons, key_ = 'distance')\n",
    "            polygons = polygons.to_crs(p_crs)\n",
    "            polygons = calculate_representative_point(polygons, key_ = 'units')\n",
    "\n",
    "            source_file = gpkg_file.split('.')[0].split('/')[-1]\n",
    "            polygons = polygons.to_crs(src1.crs)  # Ensure polygons are in the raster CRS\n",
    "\n",
    "            results_df = calculate_metadata(polygons, src1, src2, geounits, single_point, source_file, mars_crs_simple)\n",
    "            all_results.append(results_df)\n",
    "\n",
    "    # Concatenate all DataFrames into a single DataFrame\n",
    "    final_df = pd.concat(all_results, ignore_index=True)\n",
    "\n",
    "    # Save results to Excel\n",
    "    save_to_excel(final_df, output_excel)\n",
    "\n",
    "    # Save the updated GeoDataFrame back to the original .gpkg file\n",
    "    # final_df['geometry'] = final_df['Representative Point']\n",
    "    gdf = gpd.GeoDataFrame(final_df, geometry = 'Representative Point')\n",
    "    gdf.set_crs(mars_crs)\n",
    "    gdf.to_file(out_gpkg, driver='GPKG')\n",
    "\n",
    "# usage\n",
    "DATE_STRING = '03062025'\n",
    "if __name__ == \"__main__\":\n",
    "    # Folder containing .gpkg files\n",
    "    gpkg_folder = '/Users/phillipsm/Documents/Research/MassifMapping/Argyre_QGIS/shape_files/Argyre/categorized_olivine_2/'\n",
    "    # gpkg_folder = '/Users/phillipsm/Documents/Research/MassifMapping/Argyre_QGIS/shape_files/Argyre/targeted/categorized/'\n",
    "\n",
    "    # Path to raster DEM file\n",
    "    dem_file = '/Volumes/Rohan/Mars_GIS_Data/MOLA_HRSC/Mars_HRSC_MOLA_BlendDEM_Global_200mp_v2.tif'\n",
    "    \n",
    "    # Path to raster ti file\n",
    "    ti_file = '/Volumes/Rohan/Mars_GIS_Data/THEMIS/thermal_inertia/THEMIS_TI_Mosaic_Quant_60S300E_100mpp_ESRI104971.tif'\n",
    "\n",
    "    # Path to single point shapefile\n",
    "    point_shapefile = '/Users/phillipsm/Documents/Research/MassifMapping/Argyre_QGIS/arygyre_center_point_argyreProj.shp'\n",
    "\n",
    "    # Path to single point shapefile\n",
    "    geounits = 'file:///Users/phillipsm/Documents/Research/MassifMapping/ArgyreMap/Argyre_3M_preliminary/symbology_layers/argyre_geo_units_dohm2015.geojson'\n",
    "\n",
    "    # Output Excel file\n",
    "    output_excel = f'/Users/phillipsm/Documents/Research/MassifMapping/Argyre_QGIS/mineral_unit_metadata_categorized_{DATE_STRING}.xlsx'\n",
    "\n",
    "    # output geopackage file\n",
    "    out_gpkg = f'/Users/phillipsm/Documents/Research/MassifMapping/Argyre_QGIS/shape_files/Argyre/all_units_points_argyrePRJ_{DATE_STRING}.gpkg'\n",
    "    \n",
    "    # Process all .gpkg files in the folder\n",
    "    process_gpkg_folder(gpkg_folder, dem_file, ti_file, geounits, point_shapefile, output_excel, out_gpkg)\n",
    "\n"
   ]
  },
  {
   "cell_type": "markdown",
   "metadata": {},
   "source": [
    "# translate TI data to DEM crs"
   ]
  },
  {
   "cell_type": "code",
   "execution_count": 4,
   "metadata": {},
   "outputs": [],
   "source": [
    "raster_file = '/Volumes/Rohan/Mars_GIS_Data/MOLA_HRSC/Mars_HRSC_MOLA_BlendDEM_Global_200mp_v2.tif'\n",
    "raster_file_2 = '/Volumes/Rohan/Mars_GIS_Data/THEMIS/thermal_inertia/THEMIS_TI_Mosaic_Quant_60S300E_100mpp.tif'\n",
    "with rasterio.open(raster_file) as src1, rasterio.open(raster_file_2) as src2:\n",
    "    # Reproject src2 to the CRS of src1\n",
    "    if src2.crs != src1.crs:\n",
    "        transform, width, height = calculate_default_transform(src2.crs, src1.crs, src2.width, src2.height, *src2.bounds)\n",
    "        kwargs = src2.meta.copy()\n",
    "        kwargs.update({\n",
    "        'crs': src1.crs,\n",
    "        'transform': transform,\n",
    "        'width': width,\n",
    "        'height': height\n",
    "        })\n",
    "\n",
    "        reprojected_data = np.empty((src2.count, height, width), dtype=src2.dtypes[0])\n",
    "        reproject(\n",
    "        source=src2.read(),\n",
    "        destination=reprojected_data,\n",
    "        src_transform=src2.transform,\n",
    "        src_crs=src2.crs,\n",
    "        dst_transform=transform,\n",
    "        dst_crs=src1.crs,\n",
    "        resampling=Resampling.nearest\n",
    "        )\n",
    "\n",
    "        with rasterio.open('/Volumes/Rohan/Mars_GIS_Data/THEMIS/thermal_inertia/THEMIS_TI_Mosaic_Quant_60S300E_100mpp_ESRI104971.tif', 'w', **kwargs) as dst:\n",
    "            dst.write(reprojected_data)\n",
    "        \n",
    "        src2 = rasterio.open('/Volumes/Rohan/Mars_GIS_Data/THEMIS/thermal_inertia/THEMIS_TI_Mosaic_Quant_60S300E_100mpp_ESRI104971.tif')"
   ]
  },
  {
   "cell_type": "markdown",
   "metadata": {},
   "source": [
    "# For previous Hellas obs"
   ]
  },
  {
   "cell_type": "code",
   "execution_count": 1,
   "metadata": {},
   "outputs": [
    {
     "name": "stdout",
     "output_type": "stream",
     "text": [
      "Radius of Mars at latitude -42.4°: 3387.17 km\n"
     ]
    }
   ],
   "source": [
    "import math\n",
    "\n",
    "def mars_radius(latitude):\n",
    "    \"\"\"\n",
    "    Calculate the radius of Mars at a given latitude, assuming Mars is an oblate ellipsoid.\n",
    "\n",
    "    Parameters:\n",
    "    latitude (float): Latitude in degrees.\n",
    "\n",
    "    Returns:\n",
    "    float: Radius of Mars at the specified latitude in kilometers.\n",
    "    \"\"\"\n",
    "    # Equatorial and polar radii of Mars in kilometers\n",
    "    equatorial_radius = 3396.19  # Semi-major axis (a)\n",
    "    polar_radius = 3376.2       # Semi-minor axis (b)\n",
    "\n",
    "    # Convert latitude from degrees to radians\n",
    "    lat_rad = math.radians(latitude)\n",
    "\n",
    "    # Formula for the radius of an oblate ellipsoid at a given latitude\n",
    "    numerator = (equatorial_radius**2 * math.cos(lat_rad))**2 + (polar_radius**2 * math.sin(lat_rad))**2\n",
    "    denominator = (equatorial_radius * math.cos(lat_rad))**2 + (polar_radius * math.sin(lat_rad))**2\n",
    "    radius = math.sqrt(numerator / denominator)\n",
    "\n",
    "    return radius\n",
    "\n",
    "# Example usage:\n",
    "latitude = -42.4  # Latitude in degrees\n",
    "print(f\"Radius of Mars at latitude {latitude}°: {mars_radius(latitude):.2f} km\")\n"
   ]
  },
  {
   "cell_type": "code",
   "execution_count": 9,
   "metadata": {},
   "outputs": [
    {
     "name": "stdout",
     "output_type": "stream",
     "text": [
      "Single point CRS: +proj=longlat +ellps=sphere +a=3396190 +b=3396190 +units=m +no_defs +type=crs\n",
      "Processing /Users/phillipsm/Documents/Research/MassifMapping/Argyre_QGIS/shape_files/Hellas/2022_paper/collated/north_hellas_mafics_.gpkg...\n"
     ]
    },
    {
     "name": "stderr",
     "output_type": "stream",
     "text": [
      "Calculating mean raster:  97%|█████████▋| 981/1016 [03:28<00:07,  4.90it/s]/var/folders/fz/2g6_hdjd4yndg54gmwq1402c0000gn/T/ipykernel_21286/2728466048.py:111: RuntimeWarning: Mean of empty slice\n",
      "  mean_value = np.nanmean(out_image)\n",
      "Calculating mean raster: 100%|██████████| 1016/1016 [03:34<00:00,  4.73it/s]\n"
     ]
    }
   ],
   "source": [
    "import os\n",
    "import geopandas as gpd\n",
    "import rasterio\n",
    "from rasterio.mask import mask\n",
    "from rasterio.warp import calculate_default_transform, reproject, Resampling\n",
    "import numpy as np\n",
    "import pandas as pd\n",
    "from tqdm import tqdm\n",
    "from shapely.wkt import loads\n",
    "from osgeo import osr\n",
    "from pyproj import CRS\n",
    "import math\n",
    "\n",
    "os.environ['PROJ_IGNORE_CELESTIAL_BODY'] = 'YES'\n",
    "\n",
    "# Function to reproject raster to match CRS of polygons\n",
    "def reproject_raster_to_match_polygons(src, polygons_crs):\n",
    "    if src.crs != polygons_crs:\n",
    "        # Reproject raster to match polygons CRS\n",
    "        transform, width, height = calculate_default_transform(src.crs, polygons_crs, src.width, src.height, *src.bounds)\n",
    "        kwargs = src.meta.copy()\n",
    "        kwargs.update({\n",
    "            'crs': polygons_crs,\n",
    "            'transform': transform,\n",
    "            'width': width,\n",
    "            'height': height\n",
    "        })\n",
    "\n",
    "        reprojected_data = np.empty((src.count, height, width), dtype=src.dtypes[0])\n",
    "        reproject(\n",
    "            source=src.read(),\n",
    "            destination=reprojected_data,\n",
    "            src_transform=src.transform,\n",
    "            src_crs=src.crs,\n",
    "            dst_transform=transform,\n",
    "            dst_crs=polygons_crs,\n",
    "            resampling=Resampling.nearest\n",
    "        )\n",
    "\n",
    "        return reprojected_data, kwargs\n",
    "    else:\n",
    "        return src.read(), src.meta\n",
    "\n",
    "# Radius of Mars in kilometers at Argyre (assuming ellipsoid with 3396.19, 3376.2)\n",
    "hellas_center_point = (-42.4, 70.5)\n",
    "R_MARS = mars_radius(hellas_center_point[0])\n",
    "\n",
    "def haversine(lat1, lon1, lat2, lon2):\n",
    "    \"\"\"\n",
    "    Calculate the distance between two points on Mars (in kilometers)\n",
    "    given their latitudes and longitudes.\n",
    "    \n",
    "    :param lat1: Latitude of the first point in degrees\n",
    "    :param lon1: Longitude of the first point in degrees\n",
    "    :param lat2: Latitude of the second point in degrees\n",
    "    :param lon2: Longitude of the second point in degrees\n",
    "    :return: Distance between the two points in kilometers\n",
    "    \"\"\"\n",
    "    # Convert latitude and longitude from degrees to radians\n",
    "    lat1, lon1, lat2, lon2 = map(math.radians, [lat1, lon1, lat2, lon2])\n",
    "\n",
    "    # Haversine formula\n",
    "    dlat = lat2 - lat1\n",
    "    dlon = lon2 - lon1\n",
    "\n",
    "    a = math.sin(dlat / 2) ** 2 + math.cos(lat1) * math.cos(lat2) * math.sin(dlon / 2) ** 2\n",
    "    c = 2 * math.atan2(math.sqrt(a), math.sqrt(1 - a))\n",
    "\n",
    "    # Distance in kilometers\n",
    "    d = R_MARS * c\n",
    "    return d\n",
    "\n",
    "def custom_distance(p1, p2):\n",
    "    lon1, lat1 = p1.x, p1.y\n",
    "    lon2, lat2 = p2.x, p2.y\n",
    "    return round(haversine(lon1, lat1, lon2, lat2), 2)\n",
    "\n",
    "# Function to calculate representative point of each polygon\n",
    "def calculate_representative_point(polygons, key_):\n",
    "    polygons[f'representative_point_{key_}'] = polygons['geometry'].representative_point()\n",
    "    return polygons\n",
    "\n",
    "aug_notes = ['+HCP', '+LCP', '+Olivine', '+Plagioclase']\n",
    "\n",
    "rename_dict = {'Plagioclase+Olivine': 'Olivine+Plagioclase', \n",
    "               'HCP+LCP': 'LCP+HCP',\n",
    "               'LCP+Olivine': 'Olivine+LCP',\n",
    "               'HCP+Olivine': 'Olivine+HCP', 'HCP+Plagioclase': 'Plagioclase+HCP',}\n",
    "\n",
    "color_map_dict = {'Olivine': 'red', 'Plagioclase': 'yellow', \n",
    "                  'LCP': 'cyan', 'HCP': 'magenta', \n",
    "                  'Olivine+LCP': 'lavender', 'Olivine+HCP': 'purple', 'Olivine+Plagioclase': 'orangered',\n",
    "                  'LCP+HCP': 'blue'}\n",
    "\n",
    "# Function to calculate mean of raster over each polygon\n",
    "def calculate_metadata(polygons, src, raster_meta, geounits, single_point, source_file, crs):\n",
    "\n",
    "    # List to store results\n",
    "    results = []\n",
    "\n",
    "    # Loop over each polygon\n",
    "    for idx, row in tqdm(polygons.iterrows(), total=len(polygons), desc=\"Calculating mean raster\"):\n",
    "        # Mask raster by each polygon\n",
    "        try:\n",
    "            out_image, out_transform = mask(src, [row.geometry], crop=True)\n",
    "        except ValueError:\n",
    "            continue\n",
    "        \n",
    "        out_image = np.where(out_image < -8210, np.nan, out_image)\n",
    "        # Calculate mean\n",
    "        mean_value = np.nanmean(out_image)\n",
    "\n",
    "        # Calculate distance from polygon's representative point to single point\n",
    "        p = row['representative_point_distance']\n",
    "        note = row['Notes']\n",
    "        if note in aug_notes:\n",
    "            cat_plus = note\n",
    "        else:\n",
    "            cat_plus = ''\n",
    "        \n",
    "        distance = custom_distance(single_point, p)\n",
    "\n",
    "        cat = row['Interpreta'] + cat_plus\n",
    "\n",
    "        if cat in rename_dict.keys():\n",
    "            cat = rename_dict[cat]\n",
    "\n",
    "        color = color_map_dict[cat]\n",
    "\n",
    "        geounits_gdf = gpd.read_file(geounits)\n",
    "        p = row['representative_point_units']\n",
    "        intersecting_features = geounits_gdf[geounits_gdf.intersects(p)]\n",
    "        try:\n",
    "            unit_name = intersecting_features['Unit'].values[0]\n",
    "        except:\n",
    "            unit_name = 'None'\n",
    "        # if idx % 10 == 0:\n",
    "        #     print(f\"Unit name: {unit_name}\")\n",
    "        # Append results\n",
    "        results.append({\n",
    "            'Source File': source_file,\n",
    "            'Polygon_ID': idx,\n",
    "            'Color': color,\n",
    "            'Category': cat.lower(),\n",
    "            'Representative Point': row['representative_point_distance'],\n",
    "            'Elevation_km': mean_value/1000,\n",
    "            'Distance_to_center_km': distance,\n",
    "            'GeoUnits': unit_name\n",
    "        })\n",
    "\n",
    "    # Create a DataFrame from results\n",
    "    df = pd.DataFrame(results)\n",
    "\n",
    "    return df\n",
    "\n",
    "# Function to save results to Excel\n",
    "def save_to_excel(df, excel_file):\n",
    "    df.to_excel(excel_file, index=False, engine='openpyxl')\n",
    "\n",
    "# Function to process all gpkg files in a folder\n",
    "def process_gpkg_folder(gpkg_folder, raster_file, geounits, point_shapefile, output_excel, out_gpkg):\n",
    "    all_results = []\n",
    "    # Define Mars CRS\n",
    "    mars_crs_simple = {\n",
    "        'proj': 'longlat',\n",
    "        'ellps': 'sphere',\n",
    "        'a': 3396190,  # semi-major axis\n",
    "        'b': 3396190,  # semi-minor axis\n",
    "        'units': 'm',\n",
    "        'no_defs': True\n",
    "    }\n",
    "\n",
    "    # Read the single point from shapefile into a GeoDataFrame\n",
    "    single_point_gdf = gpd.read_file(point_shapefile)\n",
    "\n",
    "    # Reproject the GeoDataFrame to the desired CRS\n",
    "    single_point_gdf = single_point_gdf.to_crs(mars_crs_simple)\n",
    "    \n",
    "    # Extract the reprojected geometry\n",
    "    single_point = single_point_gdf.iloc[0]['geometry']\n",
    "\n",
    "    # Print single point CRS for debugging\n",
    "    print(f\"Single point CRS: {single_point_gdf.crs}\")\n",
    "\n",
    "    # Open raster file\n",
    "    with rasterio.open(raster_file) as src:\n",
    "        raster_data, raster_meta = reproject_raster_to_match_polygons(src, polygons_crs=src.crs)\n",
    "\n",
    "        # List all .gpkg files in the folder\n",
    "        gpkg_files = [os.path.join(gpkg_folder, file) for file in os.listdir(gpkg_folder) if file.endswith('.gpkg')]\n",
    "\n",
    "        # Process each .gpkg file\n",
    "        for gpkg_file in gpkg_files:\n",
    "            print(f\"Processing {gpkg_file}...\")\n",
    "            # Read the polygon geometries from the .gpkg file\n",
    "            polygons = gpd.read_file(gpkg_file)\n",
    "\n",
    "            # Calculate representative point for each polygon\n",
    "            p_crs = polygons.crs\n",
    "            polygons = polygons.to_crs(mars_crs_simple)\n",
    "            polygons = calculate_representative_point(polygons, key_ = 'distance')\n",
    "            polygons = polygons.to_crs(p_crs)\n",
    "            polygons = calculate_representative_point(polygons, key_ = 'units')\n",
    "\n",
    "            source_file = gpkg_file.split('.')[0].split('/')[-1]\n",
    "            polygons = polygons.to_crs(src.crs)  # Ensure polygons are in the raster CRS\n",
    "\n",
    "            results_df = calculate_metadata(polygons, src, raster_meta, geounits, single_point, source_file, mars_crs_simple)\n",
    "            all_results.append(results_df)\n",
    "\n",
    "    # Concatenate all DataFrames into a single DataFrame\n",
    "    final_df = pd.concat(all_results, ignore_index=True)\n",
    "\n",
    "    # Save results to Excel\n",
    "    save_to_excel(final_df, output_excel)\n",
    "\n",
    "    # Save the updated GeoDataFrame back to the original .gpkg file\n",
    "    # final_df['geometry'] = final_df['Representative Point']\n",
    "    gdf = gpd.GeoDataFrame(final_df, geometry = 'Representative Point')\n",
    "    gdf.set_crs(mars_crs_simple)\n",
    "    gdf.to_file(out_gpkg, driver='GPKG')\n",
    "\n",
    "# usage\n",
    "DATE_STRING = '12042024'\n",
    "if __name__ == \"__main__\":\n",
    "    # Folder containing .gpkg files\n",
    "    gpkg_folder = '/Users/phillipsm/Documents/Research/MassifMapping/Argyre_QGIS/shape_files/Hellas/2022_paper/collated/'\n",
    "    # gpkg_folder = '/Users/phillipsm/Documents/Research/MassifMapping/Argyre_QGIS/shape_files/Argyre/targeted/categorized/'\n",
    "\n",
    "    # Path to raster file\n",
    "    raster_file = '/Volumes/Rohan/Mars_GIS_Data/MOLA_HRSC/Mars_HRSC_MOLA_BlendDEM_Global_200mp_v2.tif'\n",
    "\n",
    "    # Path to single point shapefile\n",
    "    point_shapefile = '/Volumes/Valaquenta/Desktop/Hellas_center_point.shp'\n",
    "\n",
    "    # Path to geo units file\n",
    "    geounits = '/Users/phillipsm/Documents/Research/MassifMapping/Argyre_QGIS/shape_files/Hellas/2022_paper/north_hellas_geounits.gpkg'\n",
    "\n",
    "    # Output Excel file\n",
    "    # output_excel = '/Users/phillipsm/Documents/Research/MassifMapping/Argyre_QGIS/mineral_unit_metadata_categorized_11042024.xlsx'\n",
    "    output_excel = f'/Users/phillipsm/Documents/Research/MassifMapping/Argyre_QGIS/shape_files/Hellas/2022_paper/hellas_mineral_unit_metadata_categorized_{DATE_STRING}.xlsx'\n",
    "\n",
    "    # output geopackage file\n",
    "    # out_gpkg = '/Users/phillipsm/Documents/Research/MassifMapping/Argyre_QGIS/shape_files/Argyre/all_units_points_argyrePRJ_11042024.gpkg'\n",
    "    out_gpkg = f'/Users/phillipsm/Documents/Research/MassifMapping/Argyre_QGIS/shape_files/Hellas/2022_paper/hellas_all_units_points_argyrePRJ_{DATE_STRING}.gpkg'\n",
    "    \n",
    "    # Process all .gpkg files in the folder\n",
    "    process_gpkg_folder(gpkg_folder, raster_file, geounits, point_shapefile, output_excel, out_gpkg)\n",
    "\n"
   ]
  },
  {
   "cell_type": "code",
   "execution_count": null,
   "metadata": {},
   "outputs": [],
   "source": []
  }
 ],
 "metadata": {
  "kernelspec": {
   "display_name": "hypy_scat",
   "language": "python",
   "name": "python3"
  },
  "language_info": {
   "codemirror_mode": {
    "name": "ipython",
    "version": 3
   },
   "file_extension": ".py",
   "mimetype": "text/x-python",
   "name": "python",
   "nbconvert_exporter": "python",
   "pygments_lexer": "ipython3",
   "version": "3.10.13"
  }
 },
 "nbformat": 4,
 "nbformat_minor": 2
}
